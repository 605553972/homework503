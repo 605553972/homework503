{
 "cells": [
  {
   "cell_type": "code",
   "execution_count": 1,
   "metadata": {
    "ExecuteTime": {
     "end_time": "2021-03-26T01:37:49.922640Z",
     "start_time": "2021-03-26T01:37:49.918777Z"
    }
   },
   "outputs": [],
   "source": [
    "import random \n",
    "import math\n",
    "import numpy as np\n",
    "\n",
    "'''we need an object Queue to simulate the queue problem'''\n",
    "class Queue(object):\n",
    "    def __init__(self):\n",
    "        self.__list=[]\n",
    "        \n",
    "    def enqueue(self,item):\n",
    "        self.__list.append(item)\n",
    "        \n",
    "    def dequeue(self):\n",
    "        return self.__list.pop(0)\n",
    "    \n",
    "    def is_empty(self):\n",
    "        return self.__list==[]\n",
    "        \n",
    "    def size(self):\n",
    "        return(len(self.__list))"
   ]
  },
  {
   "cell_type": "code",
   "execution_count": 2,
   "metadata": {
    "ExecuteTime": {
     "end_time": "2021-03-26T01:37:56.755380Z",
     "start_time": "2021-03-26T01:37:55.089047Z"
    }
   },
   "outputs": [
    {
     "name": "stdout",
     "output_type": "stream",
     "text": [
      "time_slot_number= 10\n",
      " P0= 0.2  P1= 0.2  P2= 0.2  P3= 0.2  P4= 0.2\n",
      "\n",
      "time_slot_number= 100\n",
      " P0= 0.24  P1= 0.19  P2= 0.24  P3= 0.24  P4= 0.06\n",
      "\n",
      "time_slot_number= 1000\n",
      " P0= 0.179  P1= 0.11  P2= 0.138  P3= 0.143  P4= 0.101\n",
      "\n",
      "time_slot_number= 10000\n",
      " P0= 0.1901  P1= 0.113  P2= 0.1155  P3= 0.1049  P4= 0.0795\n",
      "\n",
      "time_slot_number= 100000\n",
      " P0= 0.20037  P1= 0.116  P2= 0.12812  P3= 0.1229  P4= 0.08837\n",
      "\n",
      "time_slot_number= 1000000\n",
      " P0= 0.200366  P1= 0.114644  P2= 0.12589  P3= 0.119327  P4= 0.08668\n",
      "\n"
     ]
    }
   ],
   "source": [
    "t_slot_list=np.logspace(1,6,6)\n",
    "\n",
    "def arrival():\n",
    "    q=10*random.random() # generate a random number between 0 to 1\n",
    "    if q<7:\n",
    "        return 0\n",
    "    elif(7<=q<8):\n",
    "        return 1\n",
    "    elif(8<=q<9):\n",
    "        return 2\n",
    "    elif(9<=q<=10):\n",
    "        return 3\n",
    "\n",
    "for t_slot in t_slot_list:\n",
    "    n0,n1,n2,n3,n4=0,0,0,0,0\n",
    "    S=Queue()     \n",
    "    for i in range (int(t_slot)): \n",
    "        '''indicator function'''\n",
    "        if(S.size()==0):\n",
    "            n0+=1\n",
    "        elif(S.size()==1):\n",
    "            n1+=1\n",
    "        elif(S.size()==2):\n",
    "            n2+=1\n",
    "        elif(S.size()==3):\n",
    "            n3+=1\n",
    "        elif(S.size()==4):\n",
    "            n4+=1\n",
    "            \n",
    "        '''server part'''\n",
    "        server=round(random.random()+0.25)\n",
    "        if(server==1 and (not S.is_empty())):\n",
    "            S.dequeue() \n",
    "            \n",
    "        '''arrival part'''\n",
    "        new_arrival=arrival()\n",
    "        if (new_arrival!=0):\n",
    "            for j in range(new_arrival):\n",
    "                S.enqueue(1)\n",
    "                \n",
    "    print(\"time_slot_number=\",int(t_slot))\n",
    "    print(\" P0=\",n0/t_slot,\" P1=\",n1/t_slot,\" P2=\",n2/t_slot,\n",
    "          \" P3=\",n3/t_slot,\" P4=\",n4/t_slot) \n",
    "    print()\n",
    "        "
   ]
  },
  {
   "cell_type": "code",
   "execution_count": 3,
   "metadata": {
    "ExecuteTime": {
     "end_time": "2021-03-26T01:37:58.971284Z",
     "start_time": "2021-03-26T01:37:57.675298Z"
    }
   },
   "outputs": [
    {
     "name": "stdout",
     "output_type": "stream",
     "text": [
      "time_slot_number= 10\n",
      "experimental_Q= 1.6\n",
      "\n",
      "time_slot_number= 100\n",
      "experimental_Q= 5.24\n",
      "\n",
      "time_slot_number= 1000\n",
      "experimental_Q= 5.338\n",
      "\n",
      "time_slot_number= 10000\n",
      "experimental_Q= 4.7096\n",
      "\n",
      "time_slot_number= 100000\n",
      "experimental_Q= 4.12458\n",
      "\n",
      "time_slot_number= 1000000\n",
      "experimental_Q= 4.291569\n",
      "\n"
     ]
    }
   ],
   "source": [
    "for t_slot in t_slot_list:\n",
    "    S=Queue()\n",
    "    sum_Q=0\n",
    "    for i in range (int(t_slot)): \n",
    "        sum_Q+=S.size()\n",
    "        \n",
    "        '''server part'''\n",
    "        server=round(random.random()+0.25)\n",
    "        if(server==1 and (not S.is_empty())):\n",
    "            S.dequeue() \n",
    "            \n",
    "        '''arrival part'''\n",
    "        new_arrival=arrival()\n",
    "        if (new_arrival!=0):\n",
    "            for j in range(new_arrival):\n",
    "                S.enqueue(1)\n",
    "    print(\"time_slot_number=\",int(t_slot))\n",
    "    print(\"experimental_Q=\",sum_Q/t_slot) \n",
    "    \n",
    "    print()"
   ]
  },
  {
   "cell_type": "code",
   "execution_count": null,
   "metadata": {},
   "outputs": [],
   "source": []
  },
  {
   "cell_type": "code",
   "execution_count": null,
   "metadata": {},
   "outputs": [],
   "source": []
  }
 ],
 "metadata": {
  "kernelspec": {
   "display_name": "Python 3",
   "language": "python",
   "name": "python3"
  },
  "language_info": {
   "codemirror_mode": {
    "name": "ipython",
    "version": 3
   },
   "file_extension": ".py",
   "mimetype": "text/x-python",
   "name": "python",
   "nbconvert_exporter": "python",
   "pygments_lexer": "ipython3",
   "version": "3.8.5"
  },
  "latex_envs": {
   "LaTeX_envs_menu_present": true,
   "autoclose": false,
   "autocomplete": true,
   "bibliofile": "biblio.bib",
   "cite_by": "apalike",
   "current_citInitial": 1,
   "eqLabelWithNumbers": true,
   "eqNumInitial": 1,
   "hotkeys": {
    "equation": "Ctrl-E",
    "itemize": "Ctrl-I"
   },
   "labels_anchors": false,
   "latex_user_defs": false,
   "report_style_numbering": false,
   "user_envs_cfg": false
  },
  "varInspector": {
   "cols": {
    "lenName": 16,
    "lenType": 16,
    "lenVar": 40
   },
   "kernels_config": {
    "python": {
     "delete_cmd_postfix": "",
     "delete_cmd_prefix": "del ",
     "library": "var_list.py",
     "varRefreshCmd": "print(var_dic_list())"
    },
    "r": {
     "delete_cmd_postfix": ") ",
     "delete_cmd_prefix": "rm(",
     "library": "var_list.r",
     "varRefreshCmd": "cat(var_dic_list()) "
    }
   },
   "types_to_exclude": [
    "module",
    "function",
    "builtin_function_or_method",
    "instance",
    "_Feature"
   ],
   "window_display": false
  }
 },
 "nbformat": 4,
 "nbformat_minor": 4
}
