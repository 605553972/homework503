{
 "cells": [
  {
   "cell_type": "markdown",
   "metadata": {},
   "source": [
    "### Question a"
   ]
  },
  {
   "cell_type": "code",
   "execution_count": 1,
   "metadata": {
    "ExecuteTime": {
     "end_time": "2021-03-19T07:27:19.954614Z",
     "start_time": "2021-03-19T07:27:19.172372Z"
    }
   },
   "outputs": [
    {
     "name": "stdout",
     "output_type": "stream",
     "text": [
      "n =  10\n",
      "LargeNumber_E_1 =  0.4960023601880984\n",
      "n =  100\n",
      "LargeNumber_E_1 =  0.9719881884937888\n",
      "n =  1000\n",
      "LargeNumber_E_1 =  1.0006735030651097\n",
      "n =  10000\n",
      "LargeNumber_E_1 =  0.9863600697998354\n",
      "n =  100000\n",
      "LargeNumber_E_1 =  0.9985617917191401\n",
      "n =  1000000\n",
      "LargeNumber_E_1 =  1.0001749773043158\n",
      "Theoretical_E_1=  1.0\n"
     ]
    }
   ],
   "source": [
    "# EE 503 class (Neely, Spring 2021)\n",
    "#\n",
    "# This program creates i.i.d. exonential\n",
    "# random variables and takes the empirical \n",
    "# average fraction of them that exceed 1/lambda.\n",
    "#\n",
    "# For some reason Python has \"lambda\" as a predefined\n",
    "# command, so I use variable \"lam.\"\n",
    "#\n",
    "# Note that if X ~ Exp(lambda) then P[X>1/lambda]=1/e\n",
    "\n",
    "import random\n",
    "import math\n",
    "import numpy as np\n",
    "import matplotlib.pyplot as plt  \n",
    "lam1 = 1 \n",
    "lam2=0.5\n",
    "theta1 = 1/lam1\n",
    "theta2=1/lam2\n",
    "n_list = np.logspace(1,6,6)\n",
    "#n_list=[10,100,1000,10000,100000,1000000]\n",
    "for n in n_list:\n",
    "    x_sum=0\n",
    "    for i in range(int(n)):\n",
    "        X = random.expovariate(lam1)\n",
    "        x_sum=x_sum+X   \n",
    "    trial_E=x_sum/n\n",
    "    print(\"n = \", int(n))\n",
    "    print(\"LargeNumber_E_1 = \", trial_E)\n",
    "    \n",
    "print(\"Theoretical_E_1= \", 1/lam1)    "
   ]
  },
  {
   "cell_type": "markdown",
   "metadata": {},
   "source": [
    "### question b"
   ]
  },
  {
   "cell_type": "code",
   "execution_count": 2,
   "metadata": {
    "ExecuteTime": {
     "end_time": "2021-03-19T07:27:20.418060Z",
     "start_time": "2021-03-19T07:27:19.966016Z"
    }
   },
   "outputs": [
    {
     "name": "stdout",
     "output_type": "stream",
     "text": [
      "n =  10\n",
      "LargeNumber_E_2 =  1.7561557525975826\n",
      "n =  100\n",
      "LargeNumber_E_2 =  2.109503767650318\n",
      "n =  1000\n",
      "LargeNumber_E_2 =  2.06599438851838\n",
      "n =  10000\n",
      "LargeNumber_E_2 =  1.998168045777959\n",
      "n =  100000\n",
      "LargeNumber_E_2 =  1.9903027201269141\n",
      "n =  1000000\n",
      "LargeNumber_E_2 =  1.9972433366174074\n",
      "theoretical_E_2=  2.0\n"
     ]
    }
   ],
   "source": [
    "lam2 = 0.5\n",
    "for n in n_list:\n",
    "    x_sum=0\n",
    "    for i in range(int(n)):\n",
    "        X = random.expovariate(lam2)\n",
    "        x_sum=x_sum+X   \n",
    "    trial_E=x_sum/n\n",
    "    print(\"n = \", int(n))\n",
    "    print(\"LargeNumber_E_2 = \", trial_E)\n",
    "print(\"theoretical_E_2= \", 1/lam2)  "
   ]
  },
  {
   "cell_type": "markdown",
   "metadata": {},
   "source": [
    "### question c"
   ]
  },
  {
   "cell_type": "code",
   "execution_count": 4,
   "metadata": {
    "ExecuteTime": {
     "end_time": "2021-03-19T07:27:21.057981Z",
     "start_time": "2021-03-19T07:27:20.578442Z"
    }
   },
   "outputs": [
    {
     "name": "stdout",
     "output_type": "stream",
     "text": [
      "n =  10.0\n",
      "lambda_1 =  1\n",
      "fraction larger than 1/lambda_1 =  0.2\n",
      "n =  100.0\n",
      "lambda_1 =  1\n",
      "fraction larger than 1/lambda_1 =  0.31\n",
      "n =  1000.0\n",
      "lambda_1 =  1\n",
      "fraction larger than 1/lambda_1 =  0.369\n",
      "n =  10000.0\n",
      "lambda_1 =  1\n",
      "fraction larger than 1/lambda_1 =  0.3694\n",
      "n =  100000.0\n",
      "lambda_1 =  1\n",
      "fraction larger than 1/lambda_1 =  0.37075\n",
      "n =  1000000.0\n",
      "lambda_1 =  1\n",
      "fraction larger than 1/lambda_1 =  0.368577\n",
      "theoretical_P[X>1/lambda_1] =  0.36787944117144233\n"
     ]
    }
   ],
   "source": [
    "for n in n_list:\n",
    "    total = 0\n",
    "    for i in range(int(n)):\n",
    "        X = random.expovariate(lam1)\n",
    "        if (X>theta1):\n",
    "            total = total+1    \n",
    "    print(\"n = \", n)\n",
    "    print(\"lambda_1 = \", lam1)\n",
    "    print(\"fraction larger than 1/lambda_1 = \", total/n)\n",
    "print(\"theoretical_P[X>1/lambda_1] = \", 1.0/math.exp(1))"
   ]
  },
  {
   "cell_type": "markdown",
   "metadata": {},
   "source": [
    "### question d"
   ]
  },
  {
   "cell_type": "code",
   "execution_count": 6,
   "metadata": {
    "ExecuteTime": {
     "end_time": "2021-03-19T07:27:35.015342Z",
     "start_time": "2021-03-19T07:27:34.546439Z"
    }
   },
   "outputs": [
    {
     "name": "stdout",
     "output_type": "stream",
     "text": [
      "n =  10.0\n",
      "lambda_2=  0.5\n",
      "fraction larger than 1/lambda2 =  0.3\n",
      "n =  100.0\n",
      "lambda_2=  0.5\n",
      "fraction larger than 1/lambda2 =  0.33\n",
      "n =  1000.0\n",
      "lambda_2=  0.5\n",
      "fraction larger than 1/lambda2 =  0.365\n",
      "n =  10000.0\n",
      "lambda_2=  0.5\n",
      "fraction larger than 1/lambda2 =  0.366\n",
      "n =  100000.0\n",
      "lambda_2=  0.5\n",
      "fraction larger than 1/lambda2 =  0.36855\n",
      "n =  1000000.0\n",
      "lambda_2=  0.5\n",
      "fraction larger than 1/lambda2 =  0.367948\n",
      "theoretical_P[X>1/lambda2] =  0.36787944117144233\n"
     ]
    }
   ],
   "source": [
    "for n in n_list:\n",
    "    total = 0\n",
    "    for i in range(int(n)):\n",
    "        X = random.expovariate(lam2)\n",
    "        if (X>theta2):\n",
    "            total = total+1\n",
    "    print(\"n = \", n)\n",
    "    print(\"lambda_2= \", lam2)\n",
    "    print(\"fraction larger than 1/lambda2 = \", total/n)\n",
    "print(\"theoretical_P[X>1/lambda2] = \", 1.0/math.exp(1))"
   ]
  },
  {
   "cell_type": "code",
   "execution_count": 19,
   "metadata": {
    "ExecuteTime": {
     "end_time": "2021-03-19T07:33:57.588462Z",
     "start_time": "2021-03-19T07:33:49.847575Z"
    }
   },
   "outputs": [
    {
     "name": "stdout",
     "output_type": "stream",
     "text": [
      "n =  1000000.0\n",
      "lambda=  1\n",
      "experimental_E[X|X>1/lambda] =  1.9999887517583284\n",
      "theoratical E[X|X>1/lambda] = 2.0\n",
      "n =  1000000.0\n",
      "lambda=  2\n",
      "experimental_E[X|X>1/lambda] =  0.9999736959154794\n",
      "theoratical E[X|X>1/lambda] = 1.0\n",
      "n =  1000000.0\n",
      "lambda=  3\n",
      "experimental_E[X|X>1/lambda] =  0.6666569617905553\n",
      "theoratical E[X|X>1/lambda] = 0.6666666666666666\n",
      "n =  1000000.0\n",
      "lambda=  4\n",
      "experimental_E[X|X>1/lambda] =  0.4999960344709746\n",
      "theoratical E[X|X>1/lambda] = 0.5\n",
      "n =  1000000.0\n",
      "lambda=  5\n",
      "experimental_E[X|X>1/lambda] =  0.39999687256012106\n",
      "theoratical E[X|X>1/lambda] = 0.4\n"
     ]
    }
   ],
   "source": [
    "import scipy\n",
    "from scipy.integrate import simps\n",
    "x_co=[]\n",
    "y_co=[]\n",
    "#total = 0\n",
    "k=1000000\n",
    "lambda_list=[1,2,3,4,5]\n",
    "\n",
    "for lam in lambda_list:\n",
    "    x_co=[]\n",
    "    y_co=[]\n",
    "    for i in range(k):\n",
    "        X = random.expovariate(lam)        \n",
    "        if (X>1/lam):\n",
    "            hight=X*lam*math.exp(-lam*X+1)\n",
    "            x_co.append(X)\n",
    "            y_co.append(hight)\n",
    "\n",
    "    pair=zip(x_co,y_co)\n",
    "    sort_zipped = sorted(pair,key=lambda m:(m[0]))\n",
    "    result = zip(*sort_zipped)\n",
    "    x_axis, y_axis = [list(x) for x in result]\n",
    "    E=simps(y_axis,x_axis)\n",
    "#     x_axis=[]\n",
    "#     y_axis=[]\n",
    "    print(\"n = \", n)\n",
    "    print(\"lambda= \", lam)\n",
    "    print(\"experimental_E[X|X>1/lambda] = \", E)\n",
    "    print(\"theoratical E[X|X>1/lambda] =\" ,2/lam)\n"
   ]
  },
  {
   "cell_type": "markdown",
   "metadata": {
    "ExecuteTime": {
     "end_time": "2021-03-18T06:13:45.887658Z",
     "start_time": "2021-03-18T06:13:45.879200Z"
    }
   },
   "source": [
    "### question （e）"
   ]
  },
  {
   "cell_type": "code",
   "execution_count": 28,
   "metadata": {},
   "outputs": [
    {
     "name": "stdout",
     "output_type": "stream",
     "text": [
      "experimental_E[X|X>1/lambda] = 1.9987411432903406\n",
      "theoretical_P[X>1/lambda2] =  2.0\n",
      "\n",
      "\n",
      "experimental_E[X|X>1/lambda] = 0.9993490204490094\n",
      "theoretical_P[X>1/lambda2] =  1.0\n",
      "\n",
      "\n",
      "experimental_E[X|X>1/lambda] = 0.6664011301006666\n",
      "theoretical_P[X>1/lambda2] =  0.6666666666666666\n",
      "\n",
      "\n",
      "experimental_E[X|X>1/lambda] = 0.4997023085359384\n",
      "theoretical_P[X>1/lambda2] =  0.5\n",
      "\n",
      "\n",
      "experimental_E[X|X>1/lambda] = 0.3990924312530788\n",
      "theoretical_P[X>1/lambda2] =  0.4\n",
      "\n",
      "\n"
     ]
    }
   ],
   "source": [
    "\n",
    "\n",
    "lambda_list=[1,2,3,4,5]\n",
    "\n",
    "for lam in lambda_list:\n",
    "    x_a=[]\n",
    "    total = 0\n",
    "    for i in range(int(1000000)):\n",
    "        X = random.expovariate(lam)\n",
    "        if (X>1/lam):        \n",
    "            total = total+1\n",
    "            x_a.append(X)\n",
    "\n",
    "    print(\"experimental_E[X|X>1/lambda] =\",sum(x_a)/total)\n",
    "    print(\"theoretical_P[X>1/lambda2] = \", 2/lam)\n",
    "    print(\"\\n\")"
   ]
  },
  {
   "cell_type": "code",
   "execution_count": null,
   "metadata": {},
   "outputs": [],
   "source": []
  }
 ],
 "metadata": {
  "kernelspec": {
   "display_name": "Python 3",
   "language": "python",
   "name": "python3"
  },
  "language_info": {
   "codemirror_mode": {
    "name": "ipython",
    "version": 3
   },
   "file_extension": ".py",
   "mimetype": "text/x-python",
   "name": "python",
   "nbconvert_exporter": "python",
   "pygments_lexer": "ipython3",
   "version": "3.8.5"
  },
  "latex_envs": {
   "LaTeX_envs_menu_present": true,
   "autoclose": false,
   "autocomplete": true,
   "bibliofile": "biblio.bib",
   "cite_by": "apalike",
   "current_citInitial": 1,
   "eqLabelWithNumbers": true,
   "eqNumInitial": 1,
   "hotkeys": {
    "equation": "Ctrl-E",
    "itemize": "Ctrl-I"
   },
   "labels_anchors": false,
   "latex_user_defs": false,
   "report_style_numbering": false,
   "user_envs_cfg": false
  },
  "varInspector": {
   "cols": {
    "lenName": 16,
    "lenType": 16,
    "lenVar": 40
   },
   "kernels_config": {
    "python": {
     "delete_cmd_postfix": "",
     "delete_cmd_prefix": "del ",
     "library": "var_list.py",
     "varRefreshCmd": "print(var_dic_list())"
    },
    "r": {
     "delete_cmd_postfix": ") ",
     "delete_cmd_prefix": "rm(",
     "library": "var_list.r",
     "varRefreshCmd": "cat(var_dic_list()) "
    }
   },
   "types_to_exclude": [
    "module",
    "function",
    "builtin_function_or_method",
    "instance",
    "_Feature"
   ],
   "window_display": false
  }
 },
 "nbformat": 4,
 "nbformat_minor": 4
}
